{
  "nbformat": 4,
  "nbformat_minor": 0,
  "metadata": {
    "colab": {
      "provenance": []
    },
    "kernelspec": {
      "name": "python3",
      "display_name": "Python 3"
    },
    "language_info": {
      "name": "python"
    }
  },
  "cells": [
    {
      "cell_type": "code",
      "execution_count": null,
      "metadata": {
        "id": "cCrx2CLByn5Y"
      },
      "outputs": [],
      "source": [
        "### AI in Agriculture: Crop Yield Prediction using Machine Learning\n",
        "\n",
        "# **Workshop Notebook**\n",
        "# This notebook will guide you through predicting crop yield using various Machine Learning models.\n",
        "\n",
        "# **Step 2: Import required libraries**\n",
        "import numpy as np\n",
        "import pandas as pd\n",
        "import matplotlib.pyplot as plt\n",
        "import seaborn as sns\n",
        "from sklearn.model_selection import train_test_split\n",
        "from sklearn.ensemble import RandomForestRegressor\n",
        "from sklearn.linear_model import LinearRegression\n",
        "from sklearn.svm import SVR\n",
        "from sklearn.tree import DecisionTreeRegressor\n",
        "from sklearn.metrics import mean_absolute_error, mean_squared_error, r2_score\n",
        "from xgboost import XGBRegressor"
      ]
    },
    {
      "cell_type": "markdown",
      "source": [
        "# Dataset Information\n",
        "For this hands-on session, we'll use a synthetic crop yield prediction dataset that we'll generate during the workshop. This approach eliminates the need for downloads and ensures consistent data for all participants.\n",
        "The dataset includes these features:\n",
        "\n",
        "* Rainfall (mm)\n",
        "* Average temperature (°C)\n",
        "* Pesticide usage (kg/hectare)\n",
        "* Soil quality (1-10 scale)\n",
        "* Fertilizer usage (kg/hectare)\n",
        "* Crop\n",
        "* Yield (bushels per acre) - target variable"
      ],
      "metadata": {
        "id": "3gJTTLDm4op0"
      }
    },
    {
      "cell_type": "code",
      "source": [
        "# **Step 3: Generate Synthetic Crop Yield Dataset**\n",
        "np.random.seed(42)\n",
        "n_samples = 1000\n",
        "\n",
        "# Features: Simulating environmental and agricultural factors\n",
        "soil_quality = np.random.uniform(1, 10, n_samples)  # Soil quality score (1-10)\n",
        "rainfall = np.random.uniform(50, 300, n_samples)  # Annual rainfall in cm\n",
        "temperature = np.random.uniform(10, 35, n_samples)  # Avg temperature in Celsius\n",
        "fertilizer_usage = np.random.uniform(50, 200, n_samples)  # Kg per hectare\n",
        "crop_type = np.random.choice([\"Wheat\", \"Rice\", \"Maize\", \"Barley\"], n_samples)\n",
        "\n",
        "# Encode categorical crop_type feature\n",
        "crop_mapping = {\"Wheat\": 0, \"Rice\": 1, \"Maize\": 2, \"Barley\": 3}\n",
        "crop_encoded = np.array([crop_mapping[crop] for crop in crop_type])\n",
        "\n",
        "# Target variable: Crop Yield (tons per hectare) with added noise\n",
        "yield_amount = (\n",
        "    2.5 * soil_quality +\n",
        "    0.05 * rainfall -\n",
        "    0.1 * temperature +\n",
        "    0.03 * fertilizer_usage +\n",
        "    1.5 * crop_encoded +\n",
        "    np.random.normal(0, 2, n_samples)  # Adding some noise\n",
        ")\n",
        "\n",
        "# Create DataFrame\n",
        "df = pd.DataFrame({\n",
        "    \"Soil_Quality\": soil_quality,\n",
        "    \"Rainfall\": rainfall,\n",
        "    \"Temperature\": temperature,\n",
        "    \"Fertilizer_Usage\": fertilizer_usage,\n",
        "    \"Crop_Type\": crop_type,\n",
        "    \"Crop_Type_Encoded\": crop_encoded,\n",
        "    \"Crop_Yield\": yield_amount\n",
        "})\n"
      ],
      "metadata": {
        "id": "HGODCxeqypT1"
      },
      "execution_count": null,
      "outputs": []
    },
    {
      "cell_type": "code",
      "source": [
        "# **Step 4: Data Visualization**\n",
        "plt.figure(figsize=(8, 6))\n",
        "sns._______(df[\"Crop_Yield\"], bins=30, kde=True)\n",
        "plt.title(\"Distribution of Crop Yield\")\n",
        "plt.xlabel(\"Crop Yield (tons per hectare)\")\n",
        "plt.ylabel(\"Frequency\")\n",
        "plt.show()"
      ],
      "metadata": {
        "id": "M12jlRT5zFw0"
      },
      "execution_count": null,
      "outputs": []
    },
    {
      "cell_type": "code",
      "source": [
        "# **Step 5: Prepare Data for Modeling**\n",
        "X = df[[\"Soil_Quality\", \"Rainfall\", \"Temperature\", \"Fertilizer_Usage\", \"Crop_Type_Encoded\"]]\n",
        "y = df[\"Crop_Yield\"]\n",
        "X_train, X_test, y_train, y_test = __________(X, y, test_size=0.2, random_state=42)"
      ],
      "metadata": {
        "id": "ICzTI_2LzIhW"
      },
      "execution_count": null,
      "outputs": []
    },
    {
      "cell_type": "code",
      "source": [
        "# **Step 6: Train and Evaluate Multiple Models**\n",
        "def evaluate_model(model, X_train, X_test, y_train, y_test, model_name):\n",
        "    model.___(X_train, y_train)\n",
        "    y_pred = model._____(X_test)\n",
        "    mae = mean_absolute_error(y_test, y_pred)\n",
        "    mse = mean_squared_error(y_test, y_pred)\n",
        "    r2 = r2_score(y_test, y_pred)\n",
        "    print(f\"{model_name} Performance:\")\n",
        "    print(f\"MAE: {mae:.2f}, MSE: {mse:.2f}, R² Score: {r2:.2f}\\n\")\n",
        "    return r2\n",
        "\n",
        "# Train various ML models\n",
        "models = {\n",
        "    \"Linear Regression\": LinearRegression(),\n",
        "    \"Decision Tree\": DecisionTreeRegressor(random_state=42),\n",
        "    \"Random Forest\": RandomForestRegressor(n_estimators=100, random_state=42),\n",
        "    \"Support Vector Regression\": SVR(kernel='rbf'),\n",
        "    \"XGBoost\": XGBRegressor(objective='reg:squarederror', n_estimators=100, random_state=42)\n",
        "}\n",
        "\n",
        "# Store results for comparison\n",
        "results = {}\n",
        "for name, model in models.items():\n",
        "    results[name] = __________(model, X_train, X_test, y_train, y_test, name)"
      ],
      "metadata": {
        "id": "p-2Bab-1zKxw"
      },
      "execution_count": null,
      "outputs": []
    },
    {
      "cell_type": "code",
      "source": [
        "# **Step 7: Compare Model Performance**\n",
        "plt.figure(figsize=(8, 5))\n",
        "plt._____(results.keys(), results.values(), color=['blue', 'green', 'red', 'purple', 'orange'])\n",
        "plt.ylabel(\"R² Score\")\n",
        "plt.title(\"Model Comparison: Crop Yield Prediction\")\n",
        "plt.xticks(rotation=30)\n",
        "plt.show()\n",
        "\n",
        "# **Step 8: Feature Importance Analysis (Random Forest)**\n",
        "rf_model = RandomForestRegressor(n_estimators=100, random_state=42)\n",
        "rf_model._____(X_train, y_train)\n",
        "importances = rf_model.______________\n",
        "feature_names = X.columns\n",
        "\n",
        "plt.figure(figsize=(8, 5))\n",
        "sns.barplot(x=importances, y=feature_names)\n",
        "plt.title(\"Feature Importance in Crop Yield Prediction\")\n",
        "plt.xlabel(\"Importance Score\")\n",
        "plt.show()\n",
        "\n",
        "# **Conclusion:**\n",
        "# We explored various machine learning models for crop yield prediction, compared their performance,\n",
        "# and analyzed feature importance. Random Forest and XGBoost usually provide the best results\n",
        "# due to their ability to handle nonlinear relationships. Further improvements can be made using\n",
        "# deep learning techniques or more real-world data preprocessing."
      ],
      "metadata": {
        "id": "JboxLmihzNNT"
      },
      "execution_count": null,
      "outputs": []
    },
    {
      "cell_type": "code",
      "source": [],
      "metadata": {
        "id": "CKjdW8mtzNqJ"
      },
      "execution_count": null,
      "outputs": []
    }
  ]
}